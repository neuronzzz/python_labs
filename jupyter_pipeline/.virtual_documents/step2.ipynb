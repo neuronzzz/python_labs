get_ipython().run_line_magic("matplotlib", " widget")


get_ipython().run_line_magic("matplotlib", " ipympl")


get_ipython().run_line_magic("matplotlib", " inline")


from IPython.display import display, Javascript


##%%javascript
## IPython.notebook.kernel.execute('nb_name = "' + IPython.notebook.notebook_name + '"')


# import os
# nb_full_path = os.path.join(os.getcwd(), nb_name)


def input(s):
    print(f'{__name__}{s=}')


input('hello')


print('step2')



