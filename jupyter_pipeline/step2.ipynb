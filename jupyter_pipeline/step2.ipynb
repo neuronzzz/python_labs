{
 "cells": [
  {
   "cell_type": "code",
   "execution_count": 1,
   "id": "ee9265c9-9894-461e-931f-e692bdb7845c",
   "metadata": {
    "execution": {
     "iopub.execute_input": "2023-07-12T06:19:30.377814Z",
     "iopub.status.busy": "2023-07-12T06:19:30.377275Z",
     "iopub.status.idle": "2023-07-12T06:19:31.018091Z",
     "shell.execute_reply": "2023-07-12T06:19:31.017092Z"
    },
    "papermill": {
     "duration": 0.651372,
     "end_time": "2023-07-12T06:19:31.021039",
     "exception": false,
     "start_time": "2023-07-12T06:19:30.369667",
     "status": "completed"
    },
    "tags": []
   },
   "outputs": [],
   "source": [
    "%matplotlib widget"
   ]
  },
  {
   "cell_type": "code",
   "execution_count": 2,
   "id": "264e474f-44b8-4630-8310-f732e18bfb7e",
   "metadata": {
    "execution": {
     "iopub.execute_input": "2023-07-12T06:19:31.033202Z",
     "iopub.status.busy": "2023-07-12T06:19:31.032274Z",
     "iopub.status.idle": "2023-07-12T06:19:31.038564Z",
     "shell.execute_reply": "2023-07-12T06:19:31.037729Z"
    },
    "papermill": {
     "duration": 0.014968,
     "end_time": "2023-07-12T06:19:31.041157",
     "exception": false,
     "start_time": "2023-07-12T06:19:31.026189",
     "status": "completed"
    },
    "tags": []
   },
   "outputs": [
    {
     "name": "stdout",
     "output_type": "stream",
     "text": [
      "Warning: Cannot change to a different GUI toolkit: ipympl. Using widget instead.\n"
     ]
    }
   ],
   "source": [
    "%matplotlib ipympl"
   ]
  },
  {
   "cell_type": "code",
   "execution_count": 3,
   "id": "96c95f64-b451-4f84-b909-7c275d434041",
   "metadata": {
    "execution": {
     "iopub.execute_input": "2023-07-12T06:19:31.052605Z",
     "iopub.status.busy": "2023-07-12T06:19:31.052149Z",
     "iopub.status.idle": "2023-07-12T06:19:31.058552Z",
     "shell.execute_reply": "2023-07-12T06:19:31.057627Z"
    },
    "papermill": {
     "duration": 0.019756,
     "end_time": "2023-07-12T06:19:31.064470",
     "exception": false,
     "start_time": "2023-07-12T06:19:31.044714",
     "status": "completed"
    },
    "tags": []
   },
   "outputs": [],
   "source": [
    "%matplotlib inline"
   ]
  },
  {
   "cell_type": "code",
   "execution_count": 4,
   "id": "b3b7c2da-2829-4f41-bd9d-73d3222f6022",
   "metadata": {
    "execution": {
     "iopub.execute_input": "2023-07-12T06:19:31.073067Z",
     "iopub.status.busy": "2023-07-12T06:19:31.072640Z",
     "iopub.status.idle": "2023-07-12T06:19:31.077202Z",
     "shell.execute_reply": "2023-07-12T06:19:31.076272Z"
    },
    "papermill": {
     "duration": 0.01177,
     "end_time": "2023-07-12T06:19:31.079863",
     "exception": false,
     "start_time": "2023-07-12T06:19:31.068093",
     "status": "completed"
    },
    "tags": []
   },
   "outputs": [],
   "source": [
    "from IPython.display import display, Javascript"
   ]
  },
  {
   "cell_type": "code",
   "execution_count": 5,
   "id": "8599f430-f8ac-4ed8-b909-936aa4ca1d8b",
   "metadata": {
    "execution": {
     "iopub.execute_input": "2023-07-12T06:19:31.087619Z",
     "iopub.status.busy": "2023-07-12T06:19:31.087227Z",
     "iopub.status.idle": "2023-07-12T06:19:31.090953Z",
     "shell.execute_reply": "2023-07-12T06:19:31.090187Z"
    },
    "papermill": {
     "duration": 0.010438,
     "end_time": "2023-07-12T06:19:31.093532",
     "exception": false,
     "start_time": "2023-07-12T06:19:31.083094",
     "status": "completed"
    },
    "tags": []
   },
   "outputs": [],
   "source": [
    "##%%javascript\n",
    "## IPython.notebook.kernel.execute('nb_name = \"' + IPython.notebook.notebook_name + '\"')"
   ]
  },
  {
   "cell_type": "code",
   "execution_count": 6,
   "id": "8f6b6bf6-c5a3-443a-af84-404bb69bb280",
   "metadata": {
    "execution": {
     "iopub.execute_input": "2023-07-12T06:19:31.102349Z",
     "iopub.status.busy": "2023-07-12T06:19:31.101575Z",
     "iopub.status.idle": "2023-07-12T06:19:31.105569Z",
     "shell.execute_reply": "2023-07-12T06:19:31.104699Z"
    },
    "papermill": {
     "duration": 0.010999,
     "end_time": "2023-07-12T06:19:31.108021",
     "exception": false,
     "start_time": "2023-07-12T06:19:31.097022",
     "status": "completed"
    },
    "tags": []
   },
   "outputs": [],
   "source": [
    "# import os\n",
    "# nb_full_path = os.path.join(os.getcwd(), nb_name)"
   ]
  },
  {
   "cell_type": "code",
   "execution_count": 7,
   "id": "b85c3616-bff8-4e2f-a1a9-f939a699117f",
   "metadata": {
    "execution": {
     "iopub.execute_input": "2023-07-12T06:19:31.115896Z",
     "iopub.status.busy": "2023-07-12T06:19:31.115542Z",
     "iopub.status.idle": "2023-07-12T06:19:31.119640Z",
     "shell.execute_reply": "2023-07-12T06:19:31.118855Z"
    },
    "papermill": {
     "duration": 0.010826,
     "end_time": "2023-07-12T06:19:31.122072",
     "exception": false,
     "start_time": "2023-07-12T06:19:31.111246",
     "status": "completed"
    },
    "tags": []
   },
   "outputs": [],
   "source": [
    "def input(s):\n",
    "    print(f'{__name__}{s=}')"
   ]
  },
  {
   "cell_type": "code",
   "execution_count": 8,
   "id": "f027f3b5-a404-42da-95a8-1947246e66ed",
   "metadata": {
    "execution": {
     "iopub.execute_input": "2023-07-12T06:19:31.130627Z",
     "iopub.status.busy": "2023-07-12T06:19:31.130034Z",
     "iopub.status.idle": "2023-07-12T06:19:31.134784Z",
     "shell.execute_reply": "2023-07-12T06:19:31.133833Z"
    },
    "papermill": {
     "duration": 0.011945,
     "end_time": "2023-07-12T06:19:31.137265",
     "exception": false,
     "start_time": "2023-07-12T06:19:31.125320",
     "status": "completed"
    },
    "tags": []
   },
   "outputs": [
    {
     "name": "stdout",
     "output_type": "stream",
     "text": [
      "__main__s='hello'\n"
     ]
    }
   ],
   "source": [
    "input('hello')"
   ]
  },
  {
   "cell_type": "code",
   "execution_count": 9,
   "id": "b5adb096-dadb-4a15-94df-7efffc509fc6",
   "metadata": {
    "execution": {
     "iopub.execute_input": "2023-07-12T06:19:31.145292Z",
     "iopub.status.busy": "2023-07-12T06:19:31.144900Z",
     "iopub.status.idle": "2023-07-12T06:19:31.149382Z",
     "shell.execute_reply": "2023-07-12T06:19:31.148389Z"
    },
    "papermill": {
     "duration": 0.011798,
     "end_time": "2023-07-12T06:19:31.152488",
     "exception": false,
     "start_time": "2023-07-12T06:19:31.140690",
     "status": "completed"
    },
    "tags": []
   },
   "outputs": [
    {
     "name": "stdout",
     "output_type": "stream",
     "text": [
      "step2\n"
     ]
    }
   ],
   "source": [
    "print('step2')"
   ]
  },
  {
   "cell_type": "code",
   "execution_count": null,
   "id": "f8f6fc46-af17-4c86-9054-e634789b5efe",
   "metadata": {
    "papermill": {
     "duration": 0.003341,
     "end_time": "2023-07-12T06:19:31.159393",
     "exception": false,
     "start_time": "2023-07-12T06:19:31.156052",
     "status": "completed"
    },
    "tags": []
   },
   "outputs": [],
   "source": []
  }
 ],
 "metadata": {
  "kernelspec": {
   "display_name": "Python 3 (ipykernel)",
   "language": "python",
   "name": "python3"
  },
  "language_info": {
   "codemirror_mode": {
    "name": "ipython",
    "version": 3
   },
   "file_extension": ".py",
   "mimetype": "text/x-python",
   "name": "python",
   "nbconvert_exporter": "python",
   "pygments_lexer": "ipython3",
   "version": "3.9.17"
  },
  "papermill": {
   "default_parameters": {},
   "duration": 2.36266,
   "end_time": "2023-07-12T06:19:31.497511",
   "environment_variables": {},
   "exception": null,
   "input_path": "/Users/RyanZhang/PycharmProjects/Learning/jupyter_pipeline/step2.ipynb",
   "output_path": "/Users/RyanZhang/PycharmProjects/Learning/jupyter_pipeline/step2.ipynb",
   "parameters": {},
   "start_time": "2023-07-12T06:19:29.134851",
   "version": "2.4.0"
  }
 },
 "nbformat": 4,
 "nbformat_minor": 5
}