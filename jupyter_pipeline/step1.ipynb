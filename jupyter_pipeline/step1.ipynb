{
 "cells": [
  {
   "cell_type": "code",
   "execution_count": 1,
   "id": "ee9265c9-9894-461e-931f-e692bdb7845c",
   "metadata": {
    "execution": {
     "iopub.execute_input": "2023-07-12T06:19:27.757546Z",
     "iopub.status.busy": "2023-07-12T06:19:27.757079Z",
     "iopub.status.idle": "2023-07-12T06:19:28.530361Z",
     "shell.execute_reply": "2023-07-12T06:19:28.529120Z"
    },
    "papermill": {
     "duration": 0.781899,
     "end_time": "2023-07-12T06:19:28.533242",
     "exception": false,
     "start_time": "2023-07-12T06:19:27.751343",
     "status": "completed"
    },
    "tags": []
   },
   "outputs": [],
   "source": [
    "%matplotlib widget"
   ]
  },
  {
   "cell_type": "code",
   "execution_count": 2,
   "id": "264e474f-44b8-4630-8310-f732e18bfb7e",
   "metadata": {
    "execution": {
     "iopub.execute_input": "2023-07-12T06:19:28.544102Z",
     "iopub.status.busy": "2023-07-12T06:19:28.543525Z",
     "iopub.status.idle": "2023-07-12T06:19:28.549953Z",
     "shell.execute_reply": "2023-07-12T06:19:28.549059Z"
    },
    "papermill": {
     "duration": 0.015172,
     "end_time": "2023-07-12T06:19:28.552993",
     "exception": false,
     "start_time": "2023-07-12T06:19:28.537821",
     "status": "completed"
    },
    "tags": []
   },
   "outputs": [
    {
     "name": "stdout",
     "output_type": "stream",
     "text": [
      "Warning: Cannot change to a different GUI toolkit: ipympl. Using widget instead.\n"
     ]
    }
   ],
   "source": [
    "%matplotlib ipympl"
   ]
  },
  {
   "cell_type": "code",
   "execution_count": 3,
   "id": "96c95f64-b451-4f84-b909-7c275d434041",
   "metadata": {
    "execution": {
     "iopub.execute_input": "2023-07-12T06:19:28.562372Z",
     "iopub.status.busy": "2023-07-12T06:19:28.561920Z",
     "iopub.status.idle": "2023-07-12T06:19:28.567906Z",
     "shell.execute_reply": "2023-07-12T06:19:28.566933Z"
    },
    "papermill": {
     "duration": 0.013508,
     "end_time": "2023-07-12T06:19:28.570422",
     "exception": false,
     "start_time": "2023-07-12T06:19:28.556914",
     "status": "completed"
    },
    "tags": []
   },
   "outputs": [],
   "source": [
    "%matplotlib inline"
   ]
  },
  {
   "cell_type": "code",
   "execution_count": 4,
   "id": "b3b7c2da-2829-4f41-bd9d-73d3222f6022",
   "metadata": {
    "execution": {
     "iopub.execute_input": "2023-07-12T06:19:28.580266Z",
     "iopub.status.busy": "2023-07-12T06:19:28.579755Z",
     "iopub.status.idle": "2023-07-12T06:19:28.584483Z",
     "shell.execute_reply": "2023-07-12T06:19:28.583695Z"
    },
    "papermill": {
     "duration": 0.012245,
     "end_time": "2023-07-12T06:19:28.587054",
     "exception": false,
     "start_time": "2023-07-12T06:19:28.574809",
     "status": "completed"
    },
    "tags": []
   },
   "outputs": [],
   "source": [
    "from IPython.display import display, Javascript"
   ]
  },
  {
   "cell_type": "code",
   "execution_count": 5,
   "id": "8599f430-f8ac-4ed8-b909-936aa4ca1d8b",
   "metadata": {
    "execution": {
     "iopub.execute_input": "2023-07-12T06:19:28.597691Z",
     "iopub.status.busy": "2023-07-12T06:19:28.596892Z",
     "iopub.status.idle": "2023-07-12T06:19:28.601106Z",
     "shell.execute_reply": "2023-07-12T06:19:28.600272Z"
    },
    "papermill": {
     "duration": 0.021586,
     "end_time": "2023-07-12T06:19:28.613250",
     "exception": false,
     "start_time": "2023-07-12T06:19:28.591664",
     "status": "completed"
    },
    "tags": []
   },
   "outputs": [],
   "source": [
    "\n",
    "##%%javascript IPython.notebook.kernel.execute('nb_name = \"' + IPython.notebook.notebook_name + '\"')"
   ]
  },
  {
   "cell_type": "code",
   "execution_count": 6,
   "id": "8f6b6bf6-c5a3-443a-af84-404bb69bb280",
   "metadata": {
    "execution": {
     "iopub.execute_input": "2023-07-12T06:19:28.621966Z",
     "iopub.status.busy": "2023-07-12T06:19:28.621536Z",
     "iopub.status.idle": "2023-07-12T06:19:28.625764Z",
     "shell.execute_reply": "2023-07-12T06:19:28.624911Z"
    },
    "papermill": {
     "duration": 0.012152,
     "end_time": "2023-07-12T06:19:28.628826",
     "exception": false,
     "start_time": "2023-07-12T06:19:28.616674",
     "status": "completed"
    },
    "tags": []
   },
   "outputs": [],
   "source": [
    "# import os\n",
    "# nb_full_path = os.path.join(os.getcwd(), nb_name)"
   ]
  },
  {
   "cell_type": "code",
   "execution_count": 7,
   "id": "b85c3616-bff8-4e2f-a1a9-f939a699117f",
   "metadata": {
    "execution": {
     "iopub.execute_input": "2023-07-12T06:19:28.638222Z",
     "iopub.status.busy": "2023-07-12T06:19:28.637684Z",
     "iopub.status.idle": "2023-07-12T06:19:28.642342Z",
     "shell.execute_reply": "2023-07-12T06:19:28.641280Z"
    },
    "papermill": {
     "duration": 0.013087,
     "end_time": "2023-07-12T06:19:28.645377",
     "exception": false,
     "start_time": "2023-07-12T06:19:28.632290",
     "status": "completed"
    },
    "tags": []
   },
   "outputs": [],
   "source": [
    "def input(s):\n",
    "    print(f'{__name__}{s=}')\n",
    "    return 100"
   ]
  },
  {
   "cell_type": "code",
   "execution_count": 8,
   "id": "f027f3b5-a404-42da-95a8-1947246e66ed",
   "metadata": {
    "execution": {
     "iopub.execute_input": "2023-07-12T06:19:28.654800Z",
     "iopub.status.busy": "2023-07-12T06:19:28.654338Z",
     "iopub.status.idle": "2023-07-12T06:19:28.659620Z",
     "shell.execute_reply": "2023-07-12T06:19:28.658396Z"
    },
    "papermill": {
     "duration": 0.013212,
     "end_time": "2023-07-12T06:19:28.662216",
     "exception": false,
     "start_time": "2023-07-12T06:19:28.649004",
     "status": "completed"
    },
    "tags": []
   },
   "outputs": [
    {
     "name": "stdout",
     "output_type": "stream",
     "text": [
      "__main__s='hello'\n"
     ]
    }
   ],
   "source": [
    "input('hello')"
   ]
  },
  {
   "cell_type": "code",
   "execution_count": 9,
   "id": "b5adb096-dadb-4a15-94df-7efffc509fc6",
   "metadata": {
    "execution": {
     "iopub.execute_input": "2023-07-12T06:19:28.671687Z",
     "iopub.status.busy": "2023-07-12T06:19:28.671181Z",
     "iopub.status.idle": "2023-07-12T06:19:28.676786Z",
     "shell.execute_reply": "2023-07-12T06:19:28.676007Z"
    },
    "papermill": {
     "duration": 0.013901,
     "end_time": "2023-07-12T06:19:28.679448",
     "exception": false,
     "start_time": "2023-07-12T06:19:28.665547",
     "status": "completed"
    },
    "tags": []
   },
   "outputs": [
    {
     "name": "stdout",
     "output_type": "stream",
     "text": [
      "step1\n"
     ]
    }
   ],
   "source": [
    "print('step1')"
   ]
  },
  {
   "cell_type": "code",
   "execution_count": null,
   "id": "363f1377-f47b-44d0-aa3a-95c058fce2d9",
   "metadata": {
    "papermill": {
     "duration": 0.00389,
     "end_time": "2023-07-12T06:19:28.687945",
     "exception": false,
     "start_time": "2023-07-12T06:19:28.684055",
     "status": "completed"
    },
    "tags": []
   },
   "outputs": [],
   "source": [
    "input(\"100\")"
   ]
  }
 ],
 "metadata": {
  "kernelspec": {
   "display_name": "Python 3 (ipykernel)",
   "language": "python",
   "name": "python3"
  },
  "language_info": {
   "codemirror_mode": {
    "name": "ipython",
    "version": 3
   },
   "file_extension": ".py",
   "mimetype": "text/x-python",
   "name": "python",
   "nbconvert_exporter": "python",
   "pygments_lexer": "ipython3",
   "version": "3.9.17"
  },
  "papermill": {
   "default_parameters": {},
   "duration": 2.654065,
   "end_time": "2023-07-12T06:19:29.122677",
   "environment_variables": {},
   "exception": null,
   "input_path": "/Users/RyanZhang/PycharmProjects/Learning/jupyter_pipeline/step1.ipynb",
   "output_path": "/Users/RyanZhang/PycharmProjects/Learning/jupyter_pipeline/step1.ipynb",
   "parameters": {},
   "start_time": "2023-07-12T06:19:26.468612",
   "version": "2.4.0"
  }
 },
 "nbformat": 4,
 "nbformat_minor": 5
}
