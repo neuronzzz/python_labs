from fabric import Connection


c = Connection('54.237.132.205', user='ubuntu', key_filename='')


result = c.run('uname -s')



